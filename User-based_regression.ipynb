{
  "nbformat": 4,
  "nbformat_minor": 0,
  "metadata": {
    "colab": {
      "name": "Final.ipynb",
      "provenance": [],
      "collapsed_sections": []
    },
    "kernelspec": {
      "name": "python3",
      "display_name": "Python 3"
    },
    "language_info": {
      "name": "python"
    }
  },
  "cells": [
    {
      "cell_type": "code",
      "metadata": {
        "id": "Aa4DlW2-6RR4"
      },
      "source": [
        "#Load libraries\n",
        "import pandas as pd\n",
        "from pandas import read_csv\n",
        "import matplotlib.pyplot as plt\n",
        "import numpy as np\n",
        "import os"
      ],
      "execution_count": null,
      "outputs": []
    },
    {
      "cell_type": "code",
      "metadata": {
        "colab": {
          "base_uri": "https://localhost:8080/"
        },
        "id": "zr7d1-tLWwRA",
        "outputId": "95adfe63-ec15-486f-d6af-e2689d3503a3"
      },
      "source": [
        "#Mount the google drive\n",
        "from google.colab import drive\n",
        "drive.mount('/content/drive')"
      ],
      "execution_count": null,
      "outputs": [
        {
          "output_type": "stream",
          "text": [
            "Mounted at /content/drive\n"
          ],
          "name": "stdout"
        }
      ]
    },
    {
      "cell_type": "code",
      "metadata": {
        "id": "8nj5TO88XAk4"
      },
      "source": [
        "'''Dataset is taken from https://www.kaggle.com/nehalbirla/vehicle-dataset-from-cardekho '''\n",
        "os.chdir('/content/drive/My Drive/')\n",
        "data = pd.read_csv(\"car_data.csv\")"
      ],
      "execution_count": null,
      "outputs": []
    },
    {
      "cell_type": "code",
      "metadata": {
        "id": "FX2LzUo5R4i8"
      },
      "source": [
        "#storing data in a sqlite database\n",
        "import csv, sqlite3\n",
        "\n",
        "con = sqlite3.connect(\"car_price.db\") \n",
        "cur = con.cursor()\n",
        "cur.execute(\"CREATE TABLE car_price (Car_Name, Year, Selling_Price, Present_Price, Kms_Driven, Fuel_Type, Seller_Type, Transmission, Owner);\") # use your column names here\n",
        "\n",
        "with open('car_data.csv','r') as car_price_table: \n",
        "    dr = csv.DictReader(car_price_table)\n",
        "    to_db = [(i['Car_Name'], i['Year'], i['Selling_Price'], i['Present_Price'], i['Kms_Driven'], i['Fuel_Type'], i['Seller_Type'], i['Transmission'], i['Owner']) for i in dr]\n",
        "\n",
        "cur.executemany(\"INSERT INTO car_price (Car_Name, Year, Selling_Price, Present_Price, Kms_Driven, Fuel_Type, Seller_Type, Transmission, Owner) VALUES (?, ?, ?, ?, ?, ?, ?, ?, ?);\", to_db)\n",
        "con.commit()\n",
        "con.close()"
      ],
      "execution_count": null,
      "outputs": []
    },
    {
      "cell_type": "code",
      "metadata": {
        "colab": {
          "base_uri": "https://localhost:8080/"
        },
        "id": "WuHkIUTbjAnA",
        "outputId": "613312bd-ce11-4621-eea7-ef48f60fa1e6"
      },
      "source": [
        "#running a sample query from sqlite database\n",
        "con = sqlite3.connect(\"car_price.db\")\n",
        "\n",
        "cur = con.cursor()\n",
        "\n",
        "for row in cur.execute('SELECT DISTINCT Fuel_Type FROM car_price;'):\n",
        "    print(row)\n",
        "\n",
        "con.close()"
      ],
      "execution_count": null,
      "outputs": [
        {
          "output_type": "stream",
          "text": [
            "('Petrol',)\n",
            "('Diesel',)\n",
            "('CNG',)\n"
          ],
          "name": "stdout"
        }
      ]
    },
    {
      "cell_type": "code",
      "metadata": {
        "colab": {
          "base_uri": "https://localhost:8080/"
        },
        "id": "sHrybu4BTBaS",
        "outputId": "53308df3-318b-4fad-d16d-7117853ab430"
      },
      "source": [
        "#displaying the first row of database\n",
        "con = sqlite3.connect(\"car_price.db\")\n",
        "\n",
        "cur = con.cursor()\n",
        "\n",
        "cur.execute('SELECT * FROM car_price;')\n",
        "print(cur.fetchone())\n",
        "\n",
        "con.close()"
      ],
      "execution_count": null,
      "outputs": [
        {
          "output_type": "stream",
          "text": [
            "('ritz', '2014', '3.35', '5.59', '27000', 'Petrol', 'Dealer', 'Manual', '0')\n"
          ],
          "name": "stdout"
        }
      ]
    },
    {
      "cell_type": "code",
      "metadata": {
        "colab": {
          "base_uri": "https://localhost:8080/"
        },
        "id": "gL7zkHx0Qu4k",
        "outputId": "2995382e-2816-4c07-a3b2-f9830db339a0"
      },
      "source": [
        "# Read sqlite query results into a pandas DataFrame\n",
        "con = sqlite3.connect(\"car_price.db\")\n",
        "data = pd.read_sql_query(\"SELECT * from car_price\", con)\n",
        "\n",
        "print(data.head())\n",
        "\n",
        "con.close()"
      ],
      "execution_count": null,
      "outputs": [
        {
          "output_type": "stream",
          "text": [
            "  Car_Name  Year Selling_Price  ... Seller_Type Transmission Owner\n",
            "0     ritz  2014          3.35  ...      Dealer       Manual     0\n",
            "1      sx4  2013          4.75  ...      Dealer       Manual     0\n",
            "2     ciaz  2017          7.25  ...      Dealer       Manual     0\n",
            "3  wagon r  2011          2.85  ...      Dealer       Manual     0\n",
            "4    swift  2014           4.6  ...      Dealer       Manual     0\n",
            "\n",
            "[5 rows x 9 columns]\n"
          ],
          "name": "stdout"
        }
      ]
    },
    {
      "cell_type": "code",
      "metadata": {
        "colab": {
          "base_uri": "https://localhost:8080/"
        },
        "id": "Y17YWbYiQ9PW",
        "outputId": "d71f0edf-0a3b-4778-c3f7-d269df041c0f"
      },
      "source": [
        "data.info()"
      ],
      "execution_count": null,
      "outputs": [
        {
          "output_type": "stream",
          "text": [
            "<class 'pandas.core.frame.DataFrame'>\n",
            "RangeIndex: 301 entries, 0 to 300\n",
            "Data columns (total 9 columns):\n",
            " #   Column         Non-Null Count  Dtype \n",
            "---  ------         --------------  ----- \n",
            " 0   Car_Name       301 non-null    object\n",
            " 1   Year           301 non-null    object\n",
            " 2   Selling_Price  301 non-null    object\n",
            " 3   Present_Price  301 non-null    object\n",
            " 4   Kms_Driven     301 non-null    object\n",
            " 5   Fuel_Type      301 non-null    object\n",
            " 6   Seller_Type    301 non-null    object\n",
            " 7   Transmission   301 non-null    object\n",
            " 8   Owner          301 non-null    object\n",
            "dtypes: object(9)\n",
            "memory usage: 21.3+ KB\n"
          ],
          "name": "stdout"
        }
      ]
    },
    {
      "cell_type": "code",
      "metadata": {
        "id": "k2v059LuUEjZ"
      },
      "source": [
        "#Convert the type of numerical columns to float/int \n",
        "data = data.apply(pd.to_numeric, errors='ignore')"
      ],
      "execution_count": null,
      "outputs": []
    },
    {
      "cell_type": "code",
      "metadata": {
        "id": "tmyCmUwhUGo-",
        "colab": {
          "base_uri": "https://localhost:8080/"
        },
        "outputId": "edd99c01-3f8d-444c-a0f9-a0c7dba82379"
      },
      "source": [
        "data.info()"
      ],
      "execution_count": null,
      "outputs": [
        {
          "output_type": "stream",
          "text": [
            "<class 'pandas.core.frame.DataFrame'>\n",
            "RangeIndex: 301 entries, 0 to 300\n",
            "Data columns (total 9 columns):\n",
            " #   Column         Non-Null Count  Dtype  \n",
            "---  ------         --------------  -----  \n",
            " 0   Car_Name       301 non-null    object \n",
            " 1   Year           301 non-null    int64  \n",
            " 2   Selling_Price  301 non-null    float64\n",
            " 3   Present_Price  301 non-null    float64\n",
            " 4   Kms_Driven     301 non-null    int64  \n",
            " 5   Fuel_Type      301 non-null    object \n",
            " 6   Seller_Type    301 non-null    object \n",
            " 7   Transmission   301 non-null    object \n",
            " 8   Owner          301 non-null    int64  \n",
            "dtypes: float64(2), int64(3), object(4)\n",
            "memory usage: 21.3+ KB\n"
          ],
          "name": "stdout"
        }
      ]
    },
    {
      "cell_type": "code",
      "metadata": {
        "id": "RKkM5hTDUWR6"
      },
      "source": [
        "#Delete the Car_Name column for this particular dataset (Please do not run this cell for a general dataset)\n",
        "del data['Car_Name']"
      ],
      "execution_count": null,
      "outputs": []
    },
    {
      "cell_type": "code",
      "metadata": {
        "colab": {
          "base_uri": "https://localhost:8080/"
        },
        "id": "QTAtgI7ZUk89",
        "outputId": "8eac4c53-b0af-4e21-c096-6258861c2b43"
      },
      "source": [
        "data.info()"
      ],
      "execution_count": null,
      "outputs": [
        {
          "output_type": "stream",
          "text": [
            "<class 'pandas.core.frame.DataFrame'>\n",
            "RangeIndex: 301 entries, 0 to 300\n",
            "Data columns (total 8 columns):\n",
            " #   Column         Non-Null Count  Dtype  \n",
            "---  ------         --------------  -----  \n",
            " 0   Year           301 non-null    int64  \n",
            " 1   Selling_Price  301 non-null    float64\n",
            " 2   Present_Price  301 non-null    float64\n",
            " 3   Kms_Driven     301 non-null    int64  \n",
            " 4   Fuel_Type      301 non-null    object \n",
            " 5   Seller_Type    301 non-null    object \n",
            " 6   Transmission   301 non-null    object \n",
            " 7   Owner          301 non-null    int64  \n",
            "dtypes: float64(2), int64(3), object(3)\n",
            "memory usage: 18.9+ KB\n"
          ],
          "name": "stdout"
        }
      ]
    },
    {
      "cell_type": "code",
      "metadata": {
        "id": "NHeWPFKJt9nQ"
      },
      "source": [
        "#Create a dictionary of all the available column headers\n",
        "headers = (list(data))\n",
        "features_dict = {}\n",
        "for i in range(len(headers)):\n",
        "  features_dict[i] = headers[i]"
      ],
      "execution_count": null,
      "outputs": []
    },
    {
      "cell_type": "code",
      "metadata": {
        "colab": {
          "base_uri": "https://localhost:8080/"
        },
        "id": "i68gGFg-XWvp",
        "outputId": "8a17bf49-c05c-49ce-ce15-99b74645574c"
      },
      "source": [
        "#Get the number of features from the user\n",
        "import numpy as np\n",
        "import sys\n",
        "print ('Here you see a dictionary of the table columns:', features_dict)\n",
        "while True:\n",
        "  num_features = input(\"Please enter your number of desired input features for ML modeling (type e to quit the program):\")\n",
        "  if num_features == 'e':\n",
        "    break\n",
        "  try:\n",
        "    num_features = int(num_features)\n",
        "    break\n",
        "  except ValueError:\n",
        "    print (\"The enterred value is not a number! Please enter a valid integer number.\")\n",
        "    print ('')"
      ],
      "execution_count": null,
      "outputs": [
        {
          "output_type": "stream",
          "text": [
            "Here you see a dictionary of the table columns: {0: 'Year', 1: 'Selling_Price', 2: 'Present_Price', 3: 'Kms_Driven', 4: 'Fuel_Type', 5: 'Seller_Type', 6: 'Transmission', 7: 'Owner'}\n",
            "Please enter your number of desired input features for ML modeling (type e to quit the program):7\n"
          ],
          "name": "stdout"
        }
      ]
    },
    {
      "cell_type": "code",
      "metadata": {
        "colab": {
          "base_uri": "https://localhost:8080/"
        },
        "id": "se59BOBikHAP",
        "outputId": "16a0bdf0-1379-43e1-e007-2ed5f9b67526"
      },
      "source": [
        "#Get the features and output for ML modeing from the user\n",
        "features_keys = []\n",
        "counter = 0\n",
        "max_allowed_key = len(headers) - 1\n",
        "print (\"Please type e any time to quit the program.\\nPlease type p any time to see what key values you have enterred so far\\nPlease type k to see the dictionary of the columns again.\\n\")\n",
        "while counter < (num_features + 1):\n",
        "  counter += 1\n",
        "  #get the features keys from stdin\n",
        "  if counter <= num_features: \n",
        "    key = input(\"Please enter the key value of feature %i:\" %counter)\n",
        "    if key == 'e':\n",
        "      break\n",
        "    elif key == 'p':\n",
        "      print ('Your enterred key values so far:', features_keys)\n",
        "      print ('')\n",
        "      counter -= 1\n",
        "    elif key == 'k':\n",
        "      print ('The dictionary of the table columns is:', features_dict)\n",
        "      print ('')\n",
        "      counter -= 1\n",
        "    else:\n",
        "      try:\n",
        "        key = int(key)\n",
        "        if key < 0 or key > max_allowed_key:\n",
        "          print (\"The key value should be non-negative and not greater than %i.\" %max_allowed_key)\n",
        "          print ('')\n",
        "          counter -= 1\n",
        "        elif key in features_keys:\n",
        "          print (\"You have already enterred this number. Please enter a new value.\")\n",
        "          print ('')\n",
        "          counter -= 1\n",
        "        else:\n",
        "          features_keys.append(key)\n",
        "      except ValueError:\n",
        "        print (\"The enterred value is not a number! Please enter a valid integer number.\")\n",
        "        print ('')\n",
        "        counter -= 1\n",
        "    #get the output key from stdin\n",
        "  else:\n",
        "    key = input(\"Please enter the key value of your desire output:\")\n",
        "    if key == 'e':\n",
        "      break\n",
        "    elif key == 'p':\n",
        "      print ('Your enterred key values so far:', features_keys)\n",
        "      print ('')\n",
        "      counter -= 1\n",
        "    elif key == 'k':\n",
        "      print ('The dictionary of the table columns is:', features_dict)\n",
        "      print ('')\n",
        "      counter -= 1\n",
        "    else:\n",
        "      try:\n",
        "        key = int(key)\n",
        "        if key < 0 or key > max_allowed_key:\n",
        "          print (\"The key value should be non-negative and not greater than %i.\" %max_allowed_key)\n",
        "          print ('')\n",
        "          counter -= 1\n",
        "        elif key in features_keys:\n",
        "          print (\"You have already enterred this number. Please enter a new value.\")\n",
        "          print ('')\n",
        "          counter -= 1\n",
        "        else:\n",
        "          output_key = key\n",
        "      except ValueError:\n",
        "        print (\"The enterred value is not a number! Please enter a valid integer number.\")\n",
        "        print ('')\n",
        "        counter -= 1"
      ],
      "execution_count": null,
      "outputs": [
        {
          "output_type": "stream",
          "text": [
            "Please type e any time to quit the program.\n",
            "Please type p any time to see what key values you have enterred so far\n",
            "Please type k to see the dictionary of the columns again.\n",
            "\n",
            "Please enter the key value of feature 1:0\n",
            "Please enter the key value of feature 2:2\n",
            "Please enter the key value of feature 3:3\n",
            "Please enter the key value of feature 4:4\n",
            "Please enter the key value of feature 5:5\n",
            "Please enter the key value of feature 6:\n",
            "The enterred value is not a number! Please enter a valid integer number.\n",
            "\n",
            "Please enter the key value of feature 6:6\n",
            "Please enter the key value of feature 7:7\n",
            "Please enter the key value of your desire output:1\n"
          ],
          "name": "stdout"
        }
      ]
    },
    {
      "cell_type": "code",
      "metadata": {
        "colab": {
          "base_uri": "https://localhost:8080/"
        },
        "id": "6HT2FYbOnjvZ",
        "outputId": "ef8e054a-4a75-4639-e8a9-fff0cc07587e"
      },
      "source": [
        "#Print the feature keys and output\n",
        "print ('features keys:', features_keys)\n",
        "print ('output key:', output_key)\n",
        "output = headers[output_key]\n",
        "print (\"output:\", output)"
      ],
      "execution_count": null,
      "outputs": [
        {
          "output_type": "stream",
          "text": [
            "features keys: [0, 2, 3, 4, 5, 6, 7]\n",
            "output key: 1\n",
            "output: Selling_Price\n"
          ],
          "name": "stdout"
        }
      ]
    },
    {
      "cell_type": "code",
      "metadata": {
        "id": "ugula_Nvr7MF",
        "colab": {
          "base_uri": "https://localhost:8080/",
          "height": 204
        },
        "outputId": "c27c1b1b-c53f-4139-89f7-c7a5ddc5cfcd"
      },
      "source": [
        "#Modify the data based on the requested columns\n",
        "import copy\n",
        "all_keys = features_keys.copy()\n",
        "all_keys.append(output_key)\n",
        "col_list = []\n",
        "for j in all_keys:\n",
        "  col_list.append(headers[j])\n",
        "\n",
        "df = data[col_list]\n",
        "df.head()"
      ],
      "execution_count": null,
      "outputs": [
        {
          "output_type": "execute_result",
          "data": {
            "text/html": [
              "<div>\n",
              "<style scoped>\n",
              "    .dataframe tbody tr th:only-of-type {\n",
              "        vertical-align: middle;\n",
              "    }\n",
              "\n",
              "    .dataframe tbody tr th {\n",
              "        vertical-align: top;\n",
              "    }\n",
              "\n",
              "    .dataframe thead th {\n",
              "        text-align: right;\n",
              "    }\n",
              "</style>\n",
              "<table border=\"1\" class=\"dataframe\">\n",
              "  <thead>\n",
              "    <tr style=\"text-align: right;\">\n",
              "      <th></th>\n",
              "      <th>Year</th>\n",
              "      <th>Present_Price</th>\n",
              "      <th>Kms_Driven</th>\n",
              "      <th>Fuel_Type</th>\n",
              "      <th>Seller_Type</th>\n",
              "      <th>Transmission</th>\n",
              "      <th>Owner</th>\n",
              "      <th>Selling_Price</th>\n",
              "    </tr>\n",
              "  </thead>\n",
              "  <tbody>\n",
              "    <tr>\n",
              "      <th>0</th>\n",
              "      <td>2014</td>\n",
              "      <td>5.59</td>\n",
              "      <td>27000</td>\n",
              "      <td>Petrol</td>\n",
              "      <td>Dealer</td>\n",
              "      <td>Manual</td>\n",
              "      <td>0</td>\n",
              "      <td>3.35</td>\n",
              "    </tr>\n",
              "    <tr>\n",
              "      <th>1</th>\n",
              "      <td>2013</td>\n",
              "      <td>9.54</td>\n",
              "      <td>43000</td>\n",
              "      <td>Diesel</td>\n",
              "      <td>Dealer</td>\n",
              "      <td>Manual</td>\n",
              "      <td>0</td>\n",
              "      <td>4.75</td>\n",
              "    </tr>\n",
              "    <tr>\n",
              "      <th>2</th>\n",
              "      <td>2017</td>\n",
              "      <td>9.85</td>\n",
              "      <td>6900</td>\n",
              "      <td>Petrol</td>\n",
              "      <td>Dealer</td>\n",
              "      <td>Manual</td>\n",
              "      <td>0</td>\n",
              "      <td>7.25</td>\n",
              "    </tr>\n",
              "    <tr>\n",
              "      <th>3</th>\n",
              "      <td>2011</td>\n",
              "      <td>4.15</td>\n",
              "      <td>5200</td>\n",
              "      <td>Petrol</td>\n",
              "      <td>Dealer</td>\n",
              "      <td>Manual</td>\n",
              "      <td>0</td>\n",
              "      <td>2.85</td>\n",
              "    </tr>\n",
              "    <tr>\n",
              "      <th>4</th>\n",
              "      <td>2014</td>\n",
              "      <td>6.87</td>\n",
              "      <td>42450</td>\n",
              "      <td>Diesel</td>\n",
              "      <td>Dealer</td>\n",
              "      <td>Manual</td>\n",
              "      <td>0</td>\n",
              "      <td>4.60</td>\n",
              "    </tr>\n",
              "  </tbody>\n",
              "</table>\n",
              "</div>"
            ],
            "text/plain": [
              "   Year  Present_Price  Kms_Driven  ... Transmission Owner Selling_Price\n",
              "0  2014           5.59       27000  ...       Manual     0          3.35\n",
              "1  2013           9.54       43000  ...       Manual     0          4.75\n",
              "2  2017           9.85        6900  ...       Manual     0          7.25\n",
              "3  2011           4.15        5200  ...       Manual     0          2.85\n",
              "4  2014           6.87       42450  ...       Manual     0          4.60\n",
              "\n",
              "[5 rows x 8 columns]"
            ]
          },
          "metadata": {
            "tags": []
          },
          "execution_count": 18
        }
      ]
    },
    {
      "cell_type": "code",
      "metadata": {
        "id": "N-sxRhtdoy00",
        "colab": {
          "base_uri": "https://localhost:8080/"
        },
        "outputId": "e6fd1905-37db-43db-8825-3bd08438b44c"
      },
      "source": [
        "#Drop Null values\n",
        "print ('shape before drop:', df.shape)\n",
        "df.dropna(inplace=True)\n",
        "print ('shape after drop:',df.shape)"
      ],
      "execution_count": null,
      "outputs": [
        {
          "output_type": "stream",
          "text": [
            "shape before drop: (301, 8)\n",
            "shape after drop: (301, 8)\n"
          ],
          "name": "stdout"
        }
      ]
    },
    {
      "cell_type": "code",
      "metadata": {
        "colab": {
          "base_uri": "https://localhost:8080/"
        },
        "id": "JVMeubpx3OOF",
        "outputId": "31e8c9d2-0b61-4c24-e7d7-5a63fde85125"
      },
      "source": [
        "#Check the new headers\n",
        "new_headers = list(df)\n",
        "print ('headers:', new_headers)"
      ],
      "execution_count": null,
      "outputs": [
        {
          "output_type": "stream",
          "text": [
            "headers: ['Year', 'Present_Price', 'Kms_Driven', 'Fuel_Type', 'Seller_Type', 'Transmission', 'Owner', 'Selling_Price']\n"
          ],
          "name": "stdout"
        }
      ]
    },
    {
      "cell_type": "code",
      "metadata": {
        "colab": {
          "base_uri": "https://localhost:8080/",
          "height": 204
        },
        "id": "JQDr3iWG3X0F",
        "outputId": "3a66918b-3081-473a-ecb3-1fcbafda3aaf"
      },
      "source": [
        "# Replace 'Year' with 'Age' for this problem (Please do not run this cell in general)\n",
        "if 'Year' in new_headers:\n",
        "  df['Age'] = 2021 - df['Year']\n",
        "  df.drop('Year',axis=1,inplace = True)\n",
        "df.head()"
      ],
      "execution_count": null,
      "outputs": [
        {
          "output_type": "execute_result",
          "data": {
            "text/html": [
              "<div>\n",
              "<style scoped>\n",
              "    .dataframe tbody tr th:only-of-type {\n",
              "        vertical-align: middle;\n",
              "    }\n",
              "\n",
              "    .dataframe tbody tr th {\n",
              "        vertical-align: top;\n",
              "    }\n",
              "\n",
              "    .dataframe thead th {\n",
              "        text-align: right;\n",
              "    }\n",
              "</style>\n",
              "<table border=\"1\" class=\"dataframe\">\n",
              "  <thead>\n",
              "    <tr style=\"text-align: right;\">\n",
              "      <th></th>\n",
              "      <th>Present_Price</th>\n",
              "      <th>Kms_Driven</th>\n",
              "      <th>Fuel_Type</th>\n",
              "      <th>Seller_Type</th>\n",
              "      <th>Transmission</th>\n",
              "      <th>Owner</th>\n",
              "      <th>Selling_Price</th>\n",
              "      <th>Age</th>\n",
              "    </tr>\n",
              "  </thead>\n",
              "  <tbody>\n",
              "    <tr>\n",
              "      <th>0</th>\n",
              "      <td>5.59</td>\n",
              "      <td>27000</td>\n",
              "      <td>Petrol</td>\n",
              "      <td>Dealer</td>\n",
              "      <td>Manual</td>\n",
              "      <td>0</td>\n",
              "      <td>3.35</td>\n",
              "      <td>7</td>\n",
              "    </tr>\n",
              "    <tr>\n",
              "      <th>1</th>\n",
              "      <td>9.54</td>\n",
              "      <td>43000</td>\n",
              "      <td>Diesel</td>\n",
              "      <td>Dealer</td>\n",
              "      <td>Manual</td>\n",
              "      <td>0</td>\n",
              "      <td>4.75</td>\n",
              "      <td>8</td>\n",
              "    </tr>\n",
              "    <tr>\n",
              "      <th>2</th>\n",
              "      <td>9.85</td>\n",
              "      <td>6900</td>\n",
              "      <td>Petrol</td>\n",
              "      <td>Dealer</td>\n",
              "      <td>Manual</td>\n",
              "      <td>0</td>\n",
              "      <td>7.25</td>\n",
              "      <td>4</td>\n",
              "    </tr>\n",
              "    <tr>\n",
              "      <th>3</th>\n",
              "      <td>4.15</td>\n",
              "      <td>5200</td>\n",
              "      <td>Petrol</td>\n",
              "      <td>Dealer</td>\n",
              "      <td>Manual</td>\n",
              "      <td>0</td>\n",
              "      <td>2.85</td>\n",
              "      <td>10</td>\n",
              "    </tr>\n",
              "    <tr>\n",
              "      <th>4</th>\n",
              "      <td>6.87</td>\n",
              "      <td>42450</td>\n",
              "      <td>Diesel</td>\n",
              "      <td>Dealer</td>\n",
              "      <td>Manual</td>\n",
              "      <td>0</td>\n",
              "      <td>4.60</td>\n",
              "      <td>7</td>\n",
              "    </tr>\n",
              "  </tbody>\n",
              "</table>\n",
              "</div>"
            ],
            "text/plain": [
              "   Present_Price  Kms_Driven Fuel_Type  ... Owner Selling_Price  Age\n",
              "0           5.59       27000    Petrol  ...     0          3.35    7\n",
              "1           9.54       43000    Diesel  ...     0          4.75    8\n",
              "2           9.85        6900    Petrol  ...     0          7.25    4\n",
              "3           4.15        5200    Petrol  ...     0          2.85   10\n",
              "4           6.87       42450    Diesel  ...     0          4.60    7\n",
              "\n",
              "[5 rows x 8 columns]"
            ]
          },
          "metadata": {
            "tags": []
          },
          "execution_count": 21
        }
      ]
    },
    {
      "cell_type": "code",
      "metadata": {
        "colab": {
          "base_uri": "https://localhost:8080/"
        },
        "id": "AeQzGzr73a7n",
        "outputId": "6dbccf52-a9ef-4840-cefb-3ef37e443a6a"
      },
      "source": [
        " df.dtypes"
      ],
      "execution_count": null,
      "outputs": [
        {
          "output_type": "execute_result",
          "data": {
            "text/plain": [
              "Present_Price    float64\n",
              "Kms_Driven         int64\n",
              "Fuel_Type         object\n",
              "Seller_Type       object\n",
              "Transmission      object\n",
              "Owner              int64\n",
              "Selling_Price    float64\n",
              "Age                int64\n",
              "dtype: object"
            ]
          },
          "metadata": {
            "tags": []
          },
          "execution_count": 22
        }
      ]
    },
    {
      "cell_type": "code",
      "metadata": {
        "colab": {
          "base_uri": "https://localhost:8080/",
          "height": 297
        },
        "id": "lUgHfCnu3exx",
        "outputId": "462c94ea-03d9-4a73-d8f9-653902b67858"
      },
      "source": [
        "df.describe()"
      ],
      "execution_count": null,
      "outputs": [
        {
          "output_type": "execute_result",
          "data": {
            "text/html": [
              "<div>\n",
              "<style scoped>\n",
              "    .dataframe tbody tr th:only-of-type {\n",
              "        vertical-align: middle;\n",
              "    }\n",
              "\n",
              "    .dataframe tbody tr th {\n",
              "        vertical-align: top;\n",
              "    }\n",
              "\n",
              "    .dataframe thead th {\n",
              "        text-align: right;\n",
              "    }\n",
              "</style>\n",
              "<table border=\"1\" class=\"dataframe\">\n",
              "  <thead>\n",
              "    <tr style=\"text-align: right;\">\n",
              "      <th></th>\n",
              "      <th>Present_Price</th>\n",
              "      <th>Kms_Driven</th>\n",
              "      <th>Owner</th>\n",
              "      <th>Selling_Price</th>\n",
              "      <th>Age</th>\n",
              "    </tr>\n",
              "  </thead>\n",
              "  <tbody>\n",
              "    <tr>\n",
              "      <th>count</th>\n",
              "      <td>301.000000</td>\n",
              "      <td>301.000000</td>\n",
              "      <td>301.000000</td>\n",
              "      <td>301.000000</td>\n",
              "      <td>301.000000</td>\n",
              "    </tr>\n",
              "    <tr>\n",
              "      <th>mean</th>\n",
              "      <td>7.628472</td>\n",
              "      <td>36947.205980</td>\n",
              "      <td>0.043189</td>\n",
              "      <td>4.661296</td>\n",
              "      <td>7.372093</td>\n",
              "    </tr>\n",
              "    <tr>\n",
              "      <th>std</th>\n",
              "      <td>8.644115</td>\n",
              "      <td>38886.883882</td>\n",
              "      <td>0.247915</td>\n",
              "      <td>5.082812</td>\n",
              "      <td>2.891554</td>\n",
              "    </tr>\n",
              "    <tr>\n",
              "      <th>min</th>\n",
              "      <td>0.320000</td>\n",
              "      <td>500.000000</td>\n",
              "      <td>0.000000</td>\n",
              "      <td>0.100000</td>\n",
              "      <td>3.000000</td>\n",
              "    </tr>\n",
              "    <tr>\n",
              "      <th>25%</th>\n",
              "      <td>1.200000</td>\n",
              "      <td>15000.000000</td>\n",
              "      <td>0.000000</td>\n",
              "      <td>0.900000</td>\n",
              "      <td>5.000000</td>\n",
              "    </tr>\n",
              "    <tr>\n",
              "      <th>50%</th>\n",
              "      <td>6.400000</td>\n",
              "      <td>32000.000000</td>\n",
              "      <td>0.000000</td>\n",
              "      <td>3.600000</td>\n",
              "      <td>7.000000</td>\n",
              "    </tr>\n",
              "    <tr>\n",
              "      <th>75%</th>\n",
              "      <td>9.900000</td>\n",
              "      <td>48767.000000</td>\n",
              "      <td>0.000000</td>\n",
              "      <td>6.000000</td>\n",
              "      <td>9.000000</td>\n",
              "    </tr>\n",
              "    <tr>\n",
              "      <th>max</th>\n",
              "      <td>92.600000</td>\n",
              "      <td>500000.000000</td>\n",
              "      <td>3.000000</td>\n",
              "      <td>35.000000</td>\n",
              "      <td>18.000000</td>\n",
              "    </tr>\n",
              "  </tbody>\n",
              "</table>\n",
              "</div>"
            ],
            "text/plain": [
              "       Present_Price     Kms_Driven       Owner  Selling_Price         Age\n",
              "count     301.000000     301.000000  301.000000     301.000000  301.000000\n",
              "mean        7.628472   36947.205980    0.043189       4.661296    7.372093\n",
              "std         8.644115   38886.883882    0.247915       5.082812    2.891554\n",
              "min         0.320000     500.000000    0.000000       0.100000    3.000000\n",
              "25%         1.200000   15000.000000    0.000000       0.900000    5.000000\n",
              "50%         6.400000   32000.000000    0.000000       3.600000    7.000000\n",
              "75%         9.900000   48767.000000    0.000000       6.000000    9.000000\n",
              "max        92.600000  500000.000000    3.000000      35.000000   18.000000"
            ]
          },
          "metadata": {
            "tags": []
          },
          "execution_count": 23
        }
      ]
    },
    {
      "cell_type": "code",
      "metadata": {
        "colab": {
          "base_uri": "https://localhost:8080/"
        },
        "id": "AePEwdcE3hZP",
        "outputId": "40e17337-bf85-44cf-eafb-00c1d4ead885"
      },
      "source": [
        "#Separate numerical and categorical features (not the output)\n",
        "numerical_features = []\n",
        "categorical_features = []\n",
        "for i in range(df.shape[1]):\n",
        "  if df.iloc[:, i].dtypes == 'O' and df.columns[i] != output:\n",
        "    categorical_features.append(df.columns[i])\n",
        "  elif df.iloc[:, i].dtypes != 'O' and df.columns[i] != output:\n",
        "    numerical_features.append(df.columns[i])\n",
        "\n",
        "print ('numerical_features:', numerical_features)\n",
        "print ('categorical_features:', categorical_features)"
      ],
      "execution_count": null,
      "outputs": [
        {
          "output_type": "stream",
          "text": [
            "numerical_features: ['Present_Price', 'Kms_Driven', 'Owner', 'Age']\n",
            "categorical_features: ['Fuel_Type', 'Seller_Type', 'Transmission']\n"
          ],
          "name": "stdout"
        }
      ]
    },
    {
      "cell_type": "code",
      "metadata": {
        "colab": {
          "base_uri": "https://localhost:8080/",
          "height": 808
        },
        "id": "XREJpCM03sCE",
        "outputId": "c65b1e84-d7eb-462b-ffd3-265064d399b6"
      },
      "source": [
        "#Visualize categorical features\n",
        "import seaborn as sns\n",
        "for i in range(len(categorical_features)):\n",
        "    plt.figure(i)\n",
        "    sns.countplot(x=categorical_features[i], data=df)\n",
        "    plt.show()"
      ],
      "execution_count": null,
      "outputs": [
        {
          "output_type": "display_data",
          "data": {
            "image/png": "[encoded data removed]",
            "text/plain": [
              "<Figure size 432x288 with 1 Axes>"
            ]
          },
          "metadata": {
            "tags": [],
            "needs_background": "light"
          }
        },
        {
          "output_type": "display_data",
          "data": {
            "image/png": "[encoded data removed]",
            "text/plain": [
              "<Figure size 432x288 with 1 Axes>"
            ]
          },
          "metadata": {
            "tags": [],
            "needs_background": "light"
          }
        },
        {
          "output_type": "display_data",
          "data": {
            "image/png": "[encoded data removed]",
            "text/plain": [
              "<Figure size 432x288 with 1 Axes>"
            ]
          },
          "metadata": {
            "tags": [],
            "needs_background": "light"
          }
        }
      ]
    },
    {
      "cell_type": "code",
      "metadata": {
        "colab": {
          "base_uri": "https://localhost:8080/",
          "height": 1000
        },
        "id": "ntzSMF993wzD",
        "outputId": "a2c9805c-bf99-4507-efa7-d5c7a13362ee"
      },
      "source": [
        "#Visualize numerical features\n",
        "i=0\n",
        "for i in range(len(numerical_features)):\n",
        "    plt.figure(i)\n",
        "    sns.boxplot(x=numerical_features[i], data=df)\n",
        "    plt.show()"
      ],
      "execution_count": null,
      "outputs": [
        {
          "output_type": "display_data",
          "data": {
            "image/png": "[encoded data removed]",
            "text/plain": [
              "<Figure size 432x288 with 1 Axes>"
            ]
          },
          "metadata": {
            "tags": [],
            "needs_background": "light"
          }
        },
        {
          "output_type": "display_data",
          "data": {
            "image/png": "[encoded data removed]",
            "text/plain": [
              "<Figure size 432x288 with 1 Axes>"
            ]
          },
          "metadata": {
            "tags": [],
            "needs_background": "light"
          }
        },
        {
          "output_type": "display_data",
          "data": {
            "image/png": "[encoded data removed]",
            "text/plain": [
              "<Figure size 432x288 with 1 Axes>"
            ]
          },
          "metadata": {
            "tags": [],
            "needs_background": "light"
          }
        },
        {
          "output_type": "display_data",
          "data": {
            "image/png": "[encoded data removed]",
            "text/plain": [
              "<Figure size 432x288 with 1 Axes>"
            ]
          },
          "metadata": {
            "tags": [],
            "needs_background": "light"
          }
        }
      ]
    },
    {
      "cell_type": "code",
      "metadata": {
        "colab": {
          "base_uri": "https://localhost:8080/",
          "height": 204
        },
        "id": "1RckZ6HG31cj",
        "outputId": "afca48ec-5fe8-4e13-c36d-920951c38ad5"
      },
      "source": [
        "#get the dummy variables based on categorcial features\n",
        "df = pd.get_dummies(data = df,drop_first=True)\n",
        "df.head()"
      ],
      "execution_count": null,
      "outputs": [
        {
          "output_type": "execute_result",
          "data": {
            "text/html": [
              "<div>\n",
              "<style scoped>\n",
              "    .dataframe tbody tr th:only-of-type {\n",
              "        vertical-align: middle;\n",
              "    }\n",
              "\n",
              "    .dataframe tbody tr th {\n",
              "        vertical-align: top;\n",
              "    }\n",
              "\n",
              "    .dataframe thead th {\n",
              "        text-align: right;\n",
              "    }\n",
              "</style>\n",
              "<table border=\"1\" class=\"dataframe\">\n",
              "  <thead>\n",
              "    <tr style=\"text-align: right;\">\n",
              "      <th></th>\n",
              "      <th>Present_Price</th>\n",
              "      <th>Kms_Driven</th>\n",
              "      <th>Owner</th>\n",
              "      <th>Selling_Price</th>\n",
              "      <th>Age</th>\n",
              "      <th>Fuel_Type_Diesel</th>\n",
              "      <th>Fuel_Type_Petrol</th>\n",
              "      <th>Seller_Type_Individual</th>\n",
              "      <th>Transmission_Manual</th>\n",
              "    </tr>\n",
              "  </thead>\n",
              "  <tbody>\n",
              "    <tr>\n",
              "      <th>0</th>\n",
              "      <td>5.59</td>\n",
              "      <td>27000</td>\n",
              "      <td>0</td>\n",
              "      <td>3.35</td>\n",
              "      <td>7</td>\n",
              "      <td>0</td>\n",
              "      <td>1</td>\n",
              "      <td>0</td>\n",
              "      <td>1</td>\n",
              "    </tr>\n",
              "    <tr>\n",
              "      <th>1</th>\n",
              "      <td>9.54</td>\n",
              "      <td>43000</td>\n",
              "      <td>0</td>\n",
              "      <td>4.75</td>\n",
              "      <td>8</td>\n",
              "      <td>1</td>\n",
              "      <td>0</td>\n",
              "      <td>0</td>\n",
              "      <td>1</td>\n",
              "    </tr>\n",
              "    <tr>\n",
              "      <th>2</th>\n",
              "      <td>9.85</td>\n",
              "      <td>6900</td>\n",
              "      <td>0</td>\n",
              "      <td>7.25</td>\n",
              "      <td>4</td>\n",
              "      <td>0</td>\n",
              "      <td>1</td>\n",
              "      <td>0</td>\n",
              "      <td>1</td>\n",
              "    </tr>\n",
              "    <tr>\n",
              "      <th>3</th>\n",
              "      <td>4.15</td>\n",
              "      <td>5200</td>\n",
              "      <td>0</td>\n",
              "      <td>2.85</td>\n",
              "      <td>10</td>\n",
              "      <td>0</td>\n",
              "      <td>1</td>\n",
              "      <td>0</td>\n",
              "      <td>1</td>\n",
              "    </tr>\n",
              "    <tr>\n",
              "      <th>4</th>\n",
              "      <td>6.87</td>\n",
              "      <td>42450</td>\n",
              "      <td>0</td>\n",
              "      <td>4.60</td>\n",
              "      <td>7</td>\n",
              "      <td>1</td>\n",
              "      <td>0</td>\n",
              "      <td>0</td>\n",
              "      <td>1</td>\n",
              "    </tr>\n",
              "  </tbody>\n",
              "</table>\n",
              "</div>"
            ],
            "text/plain": [
              "   Present_Price  Kms_Driven  ...  Seller_Type_Individual  Transmission_Manual\n",
              "0           5.59       27000  ...                       0                    1\n",
              "1           9.54       43000  ...                       0                    1\n",
              "2           9.85        6900  ...                       0                    1\n",
              "3           4.15        5200  ...                       0                    1\n",
              "4           6.87       42450  ...                       0                    1\n",
              "\n",
              "[5 rows x 9 columns]"
            ]
          },
          "metadata": {
            "tags": []
          },
          "execution_count": 27
        }
      ]
    },
    {
      "cell_type": "code",
      "metadata": {
        "colab": {
          "base_uri": "https://localhost:8080/",
          "height": 587
        },
        "id": "gYH4vjXT35tZ",
        "outputId": "7eb9d706-91da-481e-eaf1-1a9b2c5b1b54"
      },
      "source": [
        "#Correlations matrix\n",
        "fig = plt.figure(figsize=[8,8])\n",
        "sns.heatmap(df.corr(), annot=True, cmap=\"RdBu\")\n",
        "plt.show()"
      ],
      "execution_count": null,
      "outputs": [
        {
          "output_type": "display_data",
          "data": {
            "image/png": "[encoded data removed]",
            "text/plain": [
              "<Figure size 576x576 with 2 Axes>"
            ]
          },
          "metadata": {
            "tags": [],
            "needs_background": "light"
          }
        }
      ]
    },
    {
      "cell_type": "code",
      "metadata": {
        "id": "ILYLHQ5n4EDU"
      },
      "source": [
        "# Separating the target variable from its features\n",
        "y = df[[output]]\n",
        "X = df.drop(output,axis=1)"
      ],
      "execution_count": null,
      "outputs": []
    },
    {
      "cell_type": "code",
      "metadata": {
        "id": "_fAIG22Y4HGK"
      },
      "source": [
        "#scaling data\n",
        "from sklearn.preprocessing import MaxAbsScaler\n",
        "from sklearn.preprocessing import MinMaxScaler\n",
        "min_max_scaler = MinMaxScaler()\n",
        "max_abs_scaler = MaxAbsScaler()\n",
        "X_scaled=min_max_scaler.fit_transform(X) \n",
        "y_scaled=min_max_scaler.fit_transform(y)"
      ],
      "execution_count": null,
      "outputs": []
    },
    {
      "cell_type": "code",
      "metadata": {
        "colab": {
          "base_uri": "https://localhost:8080/"
        },
        "id": "_wa3OYxp4JZP",
        "outputId": "e0ac1a46-b509-436e-9639-15ee84da9437"
      },
      "source": [
        "#split the data into train and test. Test data=1/5(total data)\n",
        "from sklearn.model_selection import train_test_split\n",
        "from sklearn.metrics import r2_score\n",
        "from sklearn.model_selection import cross_val_score \n",
        "from sklearn.metrics import mean_squared_error\n",
        "X_train,X_test,y_train,y_test = train_test_split(X_scaled,y,test_size=1/5,random_state=27, shuffle=True)\n",
        "print(\"x train: \",X_train.shape)\n",
        "print(\"x test: \",X_test.shape)\n",
        "print(\"y train: \",y_train.shape)\n",
        "print(\"y test: \",y_test.shape)"
      ],
      "execution_count": null,
      "outputs": [
        {
          "output_type": "stream",
          "text": [
            "x train:  (240, 8)\n",
            "x test:  (61, 8)\n",
            "y train:  (240, 1)\n",
            "y test:  (61, 1)\n"
          ],
          "name": "stdout"
        }
      ]
    },
    {
      "cell_type": "code",
      "metadata": {
        "id": "vhi58F264MiI"
      },
      "source": [
        "#Define the general ML class for regression that contains different algorithms\n",
        "class ML_regressors():\n",
        "  def __init__(self, X_train, y_train, X_test, y_test):\n",
        "    self.X_train = X_train\n",
        "    self.y_train = y_train\n",
        "    self.X_test = X_test\n",
        "    self.y_test = y_test\n",
        "\n",
        "  def LinearRegression(self):\n",
        "    from sklearn.linear_model import LinearRegression\n",
        "    model = LinearRegression()\n",
        "    #Training\n",
        "    model.fit(self.X_train,self.y_train)\n",
        "    #train set\n",
        "    y_pred_train = model.predict(self.X_train)\n",
        "    R2_train_model = r2_score(self.y_train,y_pred_train)\n",
        "    RMSE_train_model = np.sqrt(mean_squared_error(self.y_train, y_pred_train, squared=False))\n",
        "    #test set\n",
        "    y_pred_test = model.predict(self.X_test)\n",
        "    R2_test_model = r2_score(self.y_test,y_pred_test)\n",
        "    RMSE_test_model = np.sqrt(mean_squared_error(self.y_test, y_pred_test, squared=False))\n",
        "    #cross validation\n",
        "    cross_val = cross_val_score(model ,self.X_train ,self.y_train, scoring = 'r2',cv=5)\n",
        "    cv_mean = cross_val.mean()\n",
        "    cross_rmse = cross_val_score(model ,X_train ,y_train, scoring = 'neg_root_mean_squared_error' ,cv=5)\n",
        "    cv_rmse_mean = -cross_rmse.mean()\n",
        "    return R2_train_model, RMSE_train_model, R2_test_model, RMSE_test_model, cv_mean, cv_rmse_mean\n",
        "\n",
        "  def LassoRegression(self):\n",
        "    from sklearn.linear_model import Lasso\n",
        "    from sklearn.model_selection import RandomizedSearchCV\n",
        "    ls = Lasso()\n",
        "    alpha = np.logspace(-3,3,num=14) # range for alpha\n",
        "    model = RandomizedSearchCV(estimator = ls, param_distributions = dict(alpha=alpha), random_state = 27)\n",
        "    #Training\n",
        "    model.fit(self.X_train,self.y_train)\n",
        "    #train set\n",
        "    y_pred_train = model.predict(self.X_train)\n",
        "    R2_train_model = r2_score(self.y_train,y_pred_train)\n",
        "    RMSE_train_model = np.sqrt(mean_squared_error(self.y_train, y_pred_train, squared=False))\n",
        "    #test set\n",
        "    y_pred_test = model.predict(self.X_test)\n",
        "    R2_test_model = r2_score(self.y_test,y_pred_test)\n",
        "    RMSE_test_model = np.sqrt(mean_squared_error(self.y_test, y_pred_test, squared=False))\n",
        "    #cross validation\n",
        "    cross_val = cross_val_score(model ,self.X_train ,self.y_train, scoring = 'r2',cv=5)\n",
        "    cv_mean = cross_val.mean()\n",
        "    cross_rmse = cross_val_score(model ,X_train ,y_train, scoring = 'neg_root_mean_squared_error' ,cv=5)\n",
        "    cv_rmse_mean = -cross_rmse.mean()\n",
        "    return R2_train_model, RMSE_train_model, R2_test_model, RMSE_test_model, cv_mean, cv_rmse_mean\n",
        "\n",
        "  def RidgeRegression(self):\n",
        "    from sklearn.linear_model import Ridge\n",
        "    from sklearn.model_selection import RandomizedSearchCV\n",
        "    # Creating Ridge model object\n",
        "    rg = Ridge()\n",
        "    # range of alpha \n",
        "    alpha = np.logspace(-3,3,num=14)\n",
        "    # Creating RandomizedSearchCV to find the best estimator of hyperparameter\n",
        "    model = RandomizedSearchCV(estimator = rg, param_distributions = dict(alpha=alpha), random_state = 27)\n",
        "    #Training\n",
        "    model.fit(self.X_train,self.y_train)\n",
        "    #train set\n",
        "    y_pred_train = model.predict(self.X_train)\n",
        "    R2_train_model = r2_score(self.y_train,y_pred_train)\n",
        "    RMSE_train_model = np.sqrt(mean_squared_error(self.y_train, y_pred_train, squared=False))\n",
        "    #test set\n",
        "    y_pred_test = model.predict(self.X_test)\n",
        "    R2_test_model = r2_score(self.y_test,y_pred_test)\n",
        "    RMSE_test_model = np.sqrt(mean_squared_error(self.y_test, y_pred_test, squared=False))\n",
        "    #cross validation\n",
        "    cross_val = cross_val_score(model ,self.X_train ,self.y_train, scoring = 'r2',cv=5)\n",
        "    cv_mean = cross_val.mean()\n",
        "    cross_rmse = cross_val_score(model ,X_train ,y_train, scoring = 'neg_root_mean_squared_error' ,cv=5)\n",
        "    cv_rmse_mean = -cross_rmse.mean()\n",
        "    return R2_train_model, RMSE_train_model, R2_test_model, RMSE_test_model, cv_mean, cv_rmse_mean\n",
        "\n",
        "  def RandomForest(self):\n",
        "    from sklearn.ensemble import RandomForestRegressor\n",
        "    from sklearn.model_selection import RandomizedSearchCV\n",
        "    rf = RandomForestRegressor()\n",
        "\n",
        "    # Number of trees in Random forest\n",
        "    n_estimators=list(range(500,1000,100))\n",
        "    # Maximum number of levels in a tree\n",
        "    max_depth=list(range(4,9,4))\n",
        "    # Minimum number of samples required to split an internal node\n",
        "    min_samples_split=list(range(4,9,2))\n",
        "    # Minimum number of samples required to be at a leaf node.\n",
        "    min_samples_leaf=[1,2,5,7]\n",
        "    # Number of fearures to be considered at each split\n",
        "    max_features=['auto','sqrt']\n",
        "\n",
        "    # Hyperparameters dict\n",
        "    param_grid = {\"n_estimators\":n_estimators,\n",
        "              \"max_depth\":max_depth,\n",
        "              \"min_samples_split\":min_samples_split,\n",
        "              \"min_samples_leaf\":min_samples_leaf,\n",
        "              \"max_features\":max_features}\n",
        "\n",
        "    model = RandomizedSearchCV(estimator = rf, param_distributions = param_grid, verbose = 0, random_state = 27)\n",
        "    #Training\n",
        "    model.fit(self.X_train,self.y_train)\n",
        "    #train set\n",
        "    y_pred_train = model.predict(self.X_train)\n",
        "    R2_train_model = r2_score(self.y_train,y_pred_train)\n",
        "    RMSE_train_model = np.sqrt(mean_squared_error(self.y_train, y_pred_train, squared=False))\n",
        "    #test set\n",
        "    y_pred_test = model.predict(self.X_test)\n",
        "    R2_test_model = r2_score(self.y_test,y_pred_test)\n",
        "    RMSE_test_model = np.sqrt(mean_squared_error(self.y_test, y_pred_test, squared=False))\n",
        "    #cross validation\n",
        "    cross_val = cross_val_score(model ,self.X_train ,self.y_train, scoring = 'r2',cv=5)\n",
        "    cv_mean = cross_val.mean()\n",
        "    cross_rmse = cross_val_score(model ,X_train ,y_train, scoring = 'neg_root_mean_squared_error' ,cv=5)\n",
        "    cv_rmse_mean = -cross_rmse.mean()\n",
        "    return R2_train_model, RMSE_train_model, R2_test_model, RMSE_test_model, cv_mean, cv_rmse_mean\n",
        "\n",
        "  def GradientBoosting(self):\n",
        "    from sklearn.ensemble import GradientBoostingRegressor\n",
        "    from sklearn.model_selection import RandomizedSearchCV\n",
        "\n",
        "    gb = GradientBoostingRegressor()\n",
        "\n",
        "    # Rate at which correcting is being made\n",
        "    learning_rate = [0.001, 0.01, 0.1, 0.2]\n",
        "    # Number of trees in Gradient boosting\n",
        "    n_estimators=list(range(500,1000,100))\n",
        "    # Maximum number of levels in a tree\n",
        "    max_depth=list(range(4,9,4))\n",
        "    # Minimum number of samples required to split an internal node\n",
        "    min_samples_split=list(range(4,9,2))\n",
        "    # Minimum number of samples required to be at a leaf node.\n",
        "    min_samples_leaf=[1,2,5,7]\n",
        "    # Number of fearures to be considered at each split\n",
        "    max_features=['auto','sqrt']\n",
        "\n",
        "    # Hyperparameters dict\n",
        "    param_grid = {\"learning_rate\":learning_rate,\n",
        "              \"n_estimators\":n_estimators,\n",
        "              \"max_depth\":max_depth,\n",
        "              \"min_samples_split\":min_samples_split,\n",
        "              \"min_samples_leaf\":min_samples_leaf,\n",
        "              \"max_features\":max_features}\n",
        "\n",
        "    model = RandomizedSearchCV(estimator = gb, param_distributions = param_grid, verbose = 0, random_state = 27)\n",
        "    #Training\n",
        "    model.fit(self.X_train,self.y_train)\n",
        "    #train set\n",
        "    y_pred_train = model.predict(self.X_train)\n",
        "    R2_train_model = r2_score(self.y_train,y_pred_train)\n",
        "    RMSE_train_model = np.sqrt(mean_squared_error(self.y_train, y_pred_train, squared=False))\n",
        "    #test set\n",
        "    y_pred_test = model.predict(self.X_test)\n",
        "    R2_test_model = r2_score(self.y_test,y_pred_test)\n",
        "    RMSE_test_model = np.sqrt(mean_squared_error(self.y_test, y_pred_test, squared=False))\n",
        "    #cross validation\n",
        "    cross_val = cross_val_score(model ,self.X_train ,self.y_train, scoring = 'r2',cv=5)\n",
        "    cv_mean = cross_val.mean()\n",
        "    cross_rmse = cross_val_score(model ,X_train ,y_train, scoring = 'neg_root_mean_squared_error' ,cv=5)\n",
        "    cv_rmse_mean = -cross_rmse.mean()\n",
        "    return R2_train_model, RMSE_train_model, R2_test_model, RMSE_test_model, cv_mean, cv_rmse_mean\n",
        "\n",
        "  def __call__(self):\n",
        "    return "
      ],
      "execution_count": null,
      "outputs": []
    },
    {
      "cell_type": "code",
      "metadata": {
        "colab": {
          "base_uri": "https://localhost:8080/"
        },
        "id": "86IZteJQ4SXb",
        "outputId": "c3ac2f30-5cf4-4de7-ae0d-7293865a12af"
      },
      "source": [
        "#Run and train the algorithms\n",
        "import warnings\n",
        "warnings.filterwarnings('ignore')\n",
        "models = ['LinearRegression' , 'RidgeRegression' , 'LassoRegression', 'RandomForest', 'GradientBoosting']\n",
        "regressors = ML_regressors(X_train, y_train, X_test, y_test)\n",
        "CV = {}\n",
        "R2_train = {}\n",
        "R2_test = {}\n",
        "RMSE_train = {}\n",
        "RMSE_test = {}\n",
        "CV_RMSE = {}\n",
        "for i in range(len(models)):\n",
        "  result = getattr(regressors, models[i])()\n",
        "  R2_train[models[i]] = round(result[0] , 2)\n",
        "  RMSE_train[models[i]] = round(result[1] , 2)\n",
        "  R2_test[models[i]] = round(result[2] , 2)\n",
        "  RMSE_test[models[i]] = round(result[3] , 2)\n",
        "  CV[models[i]] = round(result[4] , 2)\n",
        "  CV_RMSE[models[i]] = round(result[5] , 2)\n",
        "\n",
        "print ('R2 Train:', R2_train)\n",
        "print ('R2 Test:', R2_test)\n",
        "print ('R2 CV:', CV)\n",
        "print ('RMSE Train:', RMSE_train)\n",
        "print ('RMSE Test:', RMSE_test)\n",
        "print ('RMSE CV:', CV_RMSE)"
      ],
      "execution_count": null,
      "outputs": [
        {
          "output_type": "stream",
          "text": [
            "R2 Train: {'LinearRegression': 0.87, 'RidgeRegression': 0.87, 'LassoRegression': 0.87, 'RandomForest': 0.99, 'GradientBoosting': 1.0}\n",
            "R2 Test: {'LinearRegression': 0.88, 'RidgeRegression': 0.91, 'LassoRegression': 0.9, 'RandomForest': 0.88, 'GradientBoosting': 0.84}\n",
            "R2 CV: {'LinearRegression': 0.79, 'RidgeRegression': 0.79, 'LassoRegression': 0.8, 'RandomForest': 0.92, 'GradientBoosting': 0.93}\n",
            "RMSE Train: {'LinearRegression': 1.3, 'RidgeRegression': 1.31, 'LassoRegression': 1.31, 'RandomForest': 0.75, 'GradientBoosting': 0.05}\n",
            "RMSE Test: {'LinearRegression': 1.46, 'RidgeRegression': 1.36, 'LassoRegression': 1.39, 'RandomForest': 1.45, 'GradientBoosting': 1.58}\n",
            "RMSE CV: {'LinearRegression': 2.13, 'RidgeRegression': 2.11, 'LassoRegression': 2.06, 'RandomForest': 1.28, 'GradientBoosting': 1.12}\n"
          ],
          "name": "stdout"
        }
      ]
    },
    {
      "cell_type": "code",
      "metadata": {
        "colab": {
          "base_uri": "https://localhost:8080/",
          "height": 520
        },
        "id": "YFOhxhub4VC9",
        "outputId": "17364bf9-c39e-4467-cad3-1f78144df99e"
      },
      "source": [
        "#Visualize the performances metrics\n",
        "fig = plt.figure(figsize=[25,10])\n",
        "\n",
        "plt.subplot(2,3,1)\n",
        "plt.bar(range(len(R2_train)), list(R2_train.values()), align='center',  width=(range(len(R2_test))[1]-range(len(R2_test))[0])*0.3)\n",
        "plt.xticks(range(len(R2_train)), list(R2_train.keys()))\n",
        "plt.ylabel('R2 score')\n",
        "plt.title('R2 comparison for training')\n",
        "\n",
        "plt.subplot(2,3,2)\n",
        "plt.bar(range(len(R2_test)), list(R2_test.values()), align='center',  width=(range(len(R2_test))[1]-range(len(R2_test))[0])*0.3)\n",
        "plt.xticks(range(len(R2_test)), list(R2_test.keys()))\n",
        "plt.ylabel('R2 score')\n",
        "plt.title('R2 comparison for testing')\n",
        "\n",
        "plt.subplot(2,3,3)\n",
        "plt.bar(range(len(CV)), list(CV.values()), align='center',  width=(range(len(R2_test))[1]-range(len(R2_test))[0])*0.3)\n",
        "plt.xticks(range(len(CV)), list(CV.keys()))\n",
        "plt.ylabel('R2 score')\n",
        "plt.title('Avg R2 comparison for cross validation')\n",
        "\n",
        "plt.subplot(2,3,4)\n",
        "plt.bar(range(len(RMSE_train)), list(RMSE_train.values()), align='center',  width=(range(len(R2_test))[1]-range(len(R2_test))[0])*0.3)\n",
        "plt.xticks(range(len(RMSE_train)), list(RMSE_train.keys()))\n",
        "plt.ylabel('RMSE')\n",
        "plt.title('RMSE comparison for training')\n",
        "\n",
        "plt.subplot(2,3,5)\n",
        "plt.bar(range(len(RMSE_test)), list(RMSE_test.values()), align='center',  width=(range(len(R2_test))[1]-range(len(R2_test))[0])*0.3)\n",
        "plt.xticks(range(len(RMSE_test)), list(RMSE_test.keys()))\n",
        "plt.ylabel('RMSE')\n",
        "plt.title('RMSE comparison for testing')\n",
        "\n",
        "plt.subplot(2,3,6)\n",
        "plt.bar(range(len(CV_RMSE)), list(CV_RMSE.values()), align='center',  width=(range(len(R2_test))[1]-range(len(R2_test))[0])*0.3)\n",
        "plt.xticks(range(len(CV_RMSE)), list(CV_RMSE.keys()))\n",
        "plt.ylabel('RMSE')\n",
        "plt.title('Avg RMSE comparison for cross validation')\n",
        "\n",
        "plt.show()"
      ],
      "execution_count": null,
      "outputs": [
        {
          "output_type": "display_data",
          "data": {
            "image/png": "[encoded data removed]",
            "text/plain": [
              "<Figure size 1800x720 with 6 Axes>"
            ]
          },
          "metadata": {
            "tags": [],
            "needs_background": "light"
          }
        }
      ]
    },
    {
      "cell_type": "code",
      "metadata": {
        "id": "P0_jgOrR4YP1"
      },
      "source": [
        ""
      ],
      "execution_count": null,
      "outputs": []
    }
  ]
}